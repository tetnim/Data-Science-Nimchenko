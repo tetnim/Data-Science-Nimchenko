{
 "cells": [
  {
   "cell_type": "code",
   "execution_count": 0,
   "metadata": {
    "collapsed": false
   },
   "outputs": [
   ],
   "source": [
    "import pandas as pd\n",
    "import seaborn as sns\n",
    "\n",
    "# Завантаження даних\n",
    "data = pd.read_csv('Automobile_data.csv')\n",
    "\n",
    "# Опис ознак\n",
    "print(data.describe())\n",
    "\n",
    "# Розподіл ознак\n",
    "print(data.value_counts())\n",
    "\n",
    "# Ранжування ознак\n",
    "ranking = pd.DataFrame({\n",
    "    'розмах значень': data.describe().std_residuals.to_list(),\n",
    "    'середнє значення': data.describe().mean.to_list(),\n",
    "    'дисперсія': data.describe().var.to_list(),\n",
    "})\n",
    "ranking = ranking.set_index('розмах значень').sort_values(by='розмах значень', ascending=False)\n",
    "\n",
    "# Графіки парної кореляції\n",
    "sns.pairplot(data)\n",
    "\n",
    "# Матриця теплової карти\n",
    "plt.figure(figsize=(10, 10))\n",
    "sns.heatmap(data.corr(), annot=True, cmap='Blues')\n",
    "plt.show()"
   ]
  }
 ],
 "metadata": {
  "kernelspec": {
   "argv": [
    "/usr/bin/python3",
    "-m",
    "ipykernel",
    "--HistoryManager.enabled=False",
    "--matplotlib=inline",
    "-c",
    "%config InlineBackend.figure_formats = set(['retina'])\nimport matplotlib; matplotlib.rcParams['figure.figsize'] = (12, 7)",
    "-f",
    "{connection_file}"
   ],
   "display_name": "Python 3 (system-wide)",
   "env": {
   },
   "language": "python",
   "metadata": {
    "cocalc": {
     "description": "Python 3 programming language",
     "priority": 100,
     "url": "https://www.python.org/"
    }
   },
   "name": "python3",
   "resource_dir": "/ext/jupyter/kernels/python3"
  }
 },
 "nbformat": 4,
 "nbformat_minor": 4
}